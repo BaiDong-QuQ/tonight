{
 "cells": [
  {
   "cell_type": "code",
   "execution_count": 1,
   "metadata": {
    "collapsed": false
   },
   "outputs": [],
   "source": [
    "import numpy as np\n",
    "import pandas as pd\n",
    "import matplotlib.pyplot as plt\n",
    "import seaborn as sns\n",
    "import os\n",
    "os.chdir(r'C:\\Users\\QJ\\Desktop\\奥运健儿那些事儿\\analysis_data')\n",
    "# 创建工作路径\n",
    "\n",
    "import warnings\n",
    "warnings.filterwarnings('ignore') \n",
    "# 不发出警告\n",
    "\n",
    "df = pd.read_excel('奥运运动员数据.xlsx',sheetname=1,header=0)\n",
    "data = df[['event','name','gender','height']]\n",
    "data.dropna(inplace = True)   # 去掉缺失值\n",
    "data_male = data[data['gender'] == '男']\n",
    "data_female = data[data['gender'] == '女']\n",
    "# 提取男女数据\n",
    "\n",
    "hmean_male = data_male['height'].mean()\n",
    "hmean_female = data_female['height'].mean()\n",
    "# 计算男女平均身高\n",
    "\n",
    "sns.set_style(\"ticks\")\n",
    "# 设置风格\n",
    "\n",
    "plt.figure(figsize = (8,4))  # 设置作图大小\n",
    "sns.distplot(data_male['height'],hist = False,kde = True,rug = True,\n",
    "             rug_kws = {'color':'y','lw':2,'alpha':0.5,'height':0.1} ,   # 设置数据频率分布颜色\n",
    "             kde_kws={\"color\": \"y\", \"lw\": 1.5, 'linestyle':'--'},        # 设置密度曲线颜色，线宽，标注、线形\n",
    "             label = 'male_height')\n",
    "sns.distplot(data_female['height'],hist = False,kde = True,rug = True,\n",
    "             rug_kws = {'color':'g','lw':2,'alpha':0.5} , \n",
    "             kde_kws={\"color\": \"g\", \"lw\": 1.5, 'linestyle':'--'},\n",
    "             label = 'female_height')\n",
    "# 绘制男女高度分布密度图\n",
    "\n",
    "plt.axvline(hmean_male,color='y',linestyle=\":\",alpha=0.8) \n",
    "plt.text(hmean_male+2,0.005,'male_height_mean: %.1fcm' % (hmean_male), color = 'y')\n",
    "# 绘制男运动员平均身高辅助线\n",
    "\n",
    "plt.axvline(hmean_female,color='g',linestyle=\":\",alpha=0.8)\n",
    "plt.text(hmean_female+2,0.008,'female_height_mean: %.1fcm' % (hmean_female), color = 'g')\n",
    "# 绘制女运动员平均身高辅助线\n",
    "\n",
    "plt.ylim([0,0.03])\n",
    "plt.grid(linestyle = '--')     # 添加网格线\n",
    "plt.title(\"Athlete's height\")  # 添加图表名\n",
    "\n",
    "plt.savefig('pic1.png',dpi=400)\n",
    "# 图表导出\n",
    "\n",
    "################################################\n",
    "data_male = data_male.groupby('event').count()\n",
    "data_male = data_male.reset_index()[['event','gender']]\n",
    "data_male.to_excel('table2_male.xlsx','sheet1')\n",
    "\n",
    "data_female = data_female.groupby('event').count()\n",
    "data_female = data_female.reset_index()[['event','gender']]\n",
    "data_female.to_excel('table2_female.xlsx','sheet1')\n",
    "# 导出运动员基本信息，方便作图2"
   ]
  }
 ],
 "metadata": {
  "anaconda-cloud": {},
  "kernelspec": {
   "display_name": "Python [conda root]",
   "language": "python",
   "name": "conda-root-py"
  },
  "language_info": {
   "codemirror_mode": {
    "name": "ipython",
    "version": 3
   },
   "file_extension": ".py",
   "mimetype": "text/x-python",
   "name": "python",
   "nbconvert_exporter": "python",
   "pygments_lexer": "ipython3",
   "version": "3.5.2"
  }
 },
 "nbformat": 4,
 "nbformat_minor": 1
}
