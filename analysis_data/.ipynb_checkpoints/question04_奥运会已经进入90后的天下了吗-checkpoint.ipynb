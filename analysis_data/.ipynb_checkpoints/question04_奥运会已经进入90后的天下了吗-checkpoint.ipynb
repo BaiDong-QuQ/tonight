{
 "cells": [
  {
   "cell_type": "code",
   "execution_count": 1,
   "metadata": {
    "collapsed": false
   },
   "outputs": [],
   "source": [
    "import numpy as np\n",
    "import pandas as pd\n",
    "import matplotlib.pyplot as plt\n",
    "import seaborn as sns\n",
    "import os\n",
    "os.chdir(r'C:\\Users\\QJ\\Desktop\\奥运健儿那些事儿\\analysis_data')\n",
    "# 创建工作路径\n",
    "\n",
    "import warnings\n",
    "warnings.filterwarnings('ignore') \n",
    "# 不发出警告\n",
    "\n",
    "df = pd.read_excel('奥运运动员数据.xlsx',sheetname=1,header=0)\n",
    "'''\n",
    "(1) 按照项目分类做年龄数据分布图\n",
    "'''\n",
    "\n",
    "data = df[['event','name','birthday']]\n",
    "data.dropna(inplace = True)   # 去掉缺失值\n",
    "# 筛选数据，按照目标字段筛选\n",
    "\n",
    "data.index = pd.to_datetime(data['birthday'])   # 将出生年月改为时间序列\n",
    "data['birthyear'] = data.index.year\n",
    "data['age'] = 2016 - data['birthyear']# 计算出年龄\n",
    "data['age_range'] = pd.cut(data['age'],\n",
    "                          [0,26,60],            # 划分区间\n",
    "                          labels=[\"90s\", \"not 90s\"])   # 区间标签 \n",
    "\n",
    "sns.set_style(\"ticks\")  # 图表风格设置\n",
    "\n",
    "g = sns.FacetGrid(data, col=\"event\", hue = 'age_range',palette=\"Set2_r\",\n",
    "                  size=2.5,    \n",
    "                  aspect=1.2,\n",
    "                 col_wrap=3,sharex=False,\n",
    "                xlim=[15,40], ylim=[0,14]) # 图表长宽比\n",
    "# 创建绘图区域及读取数据\n",
    "\n",
    "g.map(sns.stripplot,\"age\",jitter=True,\n",
    "     size = 10, edgecolor = 'w',linewidth=1,marker = 'o')\n",
    "g.add_legend()  # 图例\n",
    "plt.savefig('pic5.png',dpi=400)\n",
    "# 按照项目分类绘制年龄数据分布图，并图表导出"
   ]
  }
 ],
 "metadata": {
  "anaconda-cloud": {},
  "kernelspec": {
   "display_name": "Python [conda root]",
   "language": "python",
   "name": "conda-root-py"
  },
  "language_info": {
   "codemirror_mode": {
    "name": "ipython",
    "version": 3
   },
   "file_extension": ".py",
   "mimetype": "text/x-python",
   "name": "python",
   "nbconvert_exporter": "python",
   "pygments_lexer": "ipython3",
   "version": "3.5.2"
  }
 },
 "nbformat": 4,
 "nbformat_minor": 1
}
