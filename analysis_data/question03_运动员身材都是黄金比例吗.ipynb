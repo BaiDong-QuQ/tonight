{
 "cells": [
  {
   "cell_type": "code",
   "execution_count": 5,
   "metadata": {
    "collapsed": false
   },
   "outputs": [],
   "source": [
    "import numpy as np\n",
    "import pandas as pd\n",
    "import matplotlib.pyplot as plt\n",
    "import seaborn as sns\n",
    "import os\n",
    "os.chdir(r'C:\\Users\\QJ\\Desktop\\奥运健儿那些事儿\\analysis_data')\n",
    "# 创建工作路径\n",
    "\n",
    "import warnings\n",
    "warnings.filterwarnings('ignore') \n",
    "# 不发出警告\n",
    "\n",
    "df = pd.read_excel('奥运运动员数据.xlsx',sheetname=1,header=0)\n",
    "data = df[['event','name','height','arm','leg']]\n",
    "data.dropna(inplace = True)   # 去掉缺失值\n",
    "# 筛选数据，按照目标字段筛选\n",
    "\n",
    "data['arm/h'] = data['arm'] / data['height']\n",
    "data['leg/h'] = data['leg'] / data['height']\n",
    "data = data[data['leg/h']<0.7]\n",
    "data = data[data['arm/h']>0.7]\n",
    "#data[['arm/h','leg/h']].boxplot(whis = 3)   # 用直方图查看数据分布\n",
    "# 分别计算“臂展/身高”、“腿长/身高”\n",
    "\n",
    "events = data['event'].value_counts().index.tolist()\n",
    "# 提取样本数据的所有项目\n",
    "\n",
    "event_data = []\n",
    "for i in events:\n",
    "    data_i = data[data['event'] == i]   # 获取项目数据\n",
    "    event_data.append(data_i)\n",
    "# 将数据按照项目类型拆分\n",
    "\n",
    "pla = sns.color_palette('hls',len(events))\n",
    "sns.palplot(pla)\n",
    "# 设置调色盘\n",
    "\n",
    "sns.set_style(\"darkgrid\")\n",
    "# 图表风格设置\n",
    "\n",
    "g = sns.jointplot(x=data['arm/h'], y=data['leg/h'],data = data,\n",
    "                  kind=\"kde\", color='k',   # 这里color = color中，第一个color为参数，第二个color为变量\n",
    "                  alpha = 0.6,shade_lowest=False)\n",
    "g.plot_joint(plt.scatter,c='w',s=15, linewidth=1, marker=\"+\")\n",
    "plt.savefig('pic3.png',dpi=400)\n",
    "# 绘制二维散点图并导出图表\n",
    "\n",
    "\n",
    "sns.lmplot(x='arm/h', y='leg/h', col=\"event\", hue=\"event\",data=data, palette=\"Set1\",\n",
    "           x_jitter=.30,  # 增加噪音点，使散点分布更加均匀\n",
    "           col_wrap=3,   # 每行的列数\n",
    "           size = 2.5,markers='.'\n",
    "          )\n",
    "plt.savefig('pic4.png',dpi=400)\n",
    "# 绘制回归矩阵图，并导出图表"
   ]
  },
  {
   "cell_type": "code",
   "execution_count": null,
   "metadata": {
    "collapsed": true
   },
   "outputs": [],
   "source": []
  }
 ],
 "metadata": {
  "anaconda-cloud": {},
  "kernelspec": {
   "display_name": "Python [conda root]",
   "language": "python",
   "name": "conda-root-py"
  },
  "language_info": {
   "codemirror_mode": {
    "name": "ipython",
    "version": 3
   },
   "file_extension": ".py",
   "mimetype": "text/x-python",
   "name": "python",
   "nbconvert_exporter": "python",
   "pygments_lexer": "ipython3",
   "version": "3.5.2"
  }
 },
 "nbformat": 4,
 "nbformat_minor": 1
}
